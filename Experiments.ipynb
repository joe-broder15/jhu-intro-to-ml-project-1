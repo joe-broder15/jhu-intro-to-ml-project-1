{
 "cells": [
  {
   "cell_type": "code",
   "execution_count": 1,
   "id": "a0a42211",
   "metadata": {},
   "outputs": [
    {
     "name": "stderr",
     "output_type": "stream",
     "text": [
      "C:\\Users\\joe\\Development\\jhu-iml-project-1\\data_loader.py:16: ParserWarning: Length of header or names does not match length of data. This leads to a loss of data with index_col=False.\n",
      "  pd.read_csv(\"data/car.data\", names=car_names, index_col=False),\n"
     ]
    }
   ],
   "source": [
    "import pandas as pd\n",
    "from main import *\n",
    "import numpy as np\n",
    "from models import condensed_nn\n",
    "from naive_models import null_model\n",
    "from evaluate import evaluate_mse\n",
    "\n",
    "(\n",
    "    abalone_data,\n",
    "    breast_cancer_data,\n",
    "    car_data,\n",
    "    orest_fires_data,\n",
    "    house_votes_data,\n",
    "    machine_data,\n",
    ") = init_data()"
   ]
  },
  {
   "cell_type": "code",
   "execution_count": 2,
   "id": "c9a258a6",
   "metadata": {},
   "outputs": [],
   "source": [
    "d = abalone_data[:]\n",
    "d = make_all_cols_float(d)"
   ]
  },
  {
   "cell_type": "code",
   "execution_count": 10,
   "id": "0acc0d53",
   "metadata": {},
   "outputs": [
    {
     "name": "stdout",
     "output_type": "stream",
     "text": [
      "(9, 0.1, 0.1)\n",
      "(10, 0.1, 0.1)\n",
      "(15, 0.1, 0.1)\n",
      "(20, 0.1, 0.1)\n"
     ]
    }
   ],
   "source": [
    "train, tune = tune_split(d)\n",
    "outputs = []\n",
    "\n",
    "\n",
    "# do tuning\n",
    "ks = [9]\n",
    "epsilons = [0.1]\n",
    "sigmas = [10**-1]\n",
    "\n",
    "fold = 1\n",
    "tune_results = dict()\n",
    "\n",
    "    \n",
    "for k in ks:\n",
    "    for epsilon in epsilons:\n",
    "        for sigma in sigmas:\n",
    "            print((k, epsilon, sigma))\n",
    "            tmp_result = []\n",
    "            for k1, k2 in k2_split(train, 5):\n",
    "                model_1 = condensed_nn(k1, k, classification=False, sigma=sigma, epsilon=epsilon)\n",
    "                model_2 = condensed_nn(k2, k, classification=False, sigma=sigma, epsilon=epsilon)\n",
    "                model_1.train()\n",
    "                model_2.train()\n",
    "\n",
    "                result_1 = evaluate_mse(model_1.regress(tune), tune[\"Rings\"])\n",
    "                result_2 = evaluate_mse(model_2.regress(tune), tune[\"Rings\"])\n",
    "\n",
    "                tmp_result.append((result_1+result_2)/2)\n",
    "            \n",
    "            tune_results[(k, epsilon, sigma)] = np.array(tmp_result).mean()                \n",
    "                \n",
    "\n",
    "# # do cross validation and iterate over each one of the sets\n",
    "# fold = 1\n",
    "# for k1, k2 in k2_split(train, 5):\n",
    "#     print(f\"fold {fold}\")\n",
    "#     # train on k1\n",
    "#     model = condensed_nn(k1, k=1, classification=False, sigma=0.8, epsilon=0.1)\n",
    "#     model.train()\n",
    "\n",
    "#     out = model.regress(k2)\n",
    "#     naive = null_model(k2, \"Rings\", classify=False)\n",
    "    \n",
    "#     answers = k2[\"Rings\"]\n",
    "\n",
    "#     outputs.append((evaluate_mse(out, answers), evaluate_mse(naive, answers)))\n",
    "#     fold+=1"
   ]
  },
  {
   "cell_type": "code",
   "execution_count": 11,
   "id": "9a5d8ebf",
   "metadata": {},
   "outputs": [
    {
     "name": "stdout",
     "output_type": "stream",
     "text": [
      "{(9, 0.1, 0.1): 5.711538805600753, (10, 0.1, 0.1): 5.713933332663645, (15, 0.1, 0.1): 5.7181011274768085, (20, 0.1, 0.1): 5.80664317579464}\n"
     ]
    },
    {
     "data": {
      "text/plain": [
       "(9, 0.1, 0.1)"
      ]
     },
     "execution_count": 11,
     "metadata": {},
     "output_type": "execute_result"
    }
   ],
   "source": [
    "print(tune_results)\n",
    "min(tune_results.keys(), key = lambda x:tune_results[x])"
   ]
  },
  {
   "cell_type": "code",
   "execution_count": 12,
   "id": "be8a3345",
   "metadata": {},
   "outputs": [
    {
     "data": {
      "text/plain": [
       "11.2921997920327"
      ]
     },
     "execution_count": 12,
     "metadata": {},
     "output_type": "execute_result"
    }
   ],
   "source": [
    "naive = null_model(tune, \"Rings\", classify=False)\n",
    "evaluate_mse(naive, tune[\"Rings\"])"
   ]
  },
  {
   "cell_type": "code",
   "execution_count": 13,
   "id": "0c443d45",
   "metadata": {},
   "outputs": [
    {
     "data": {
      "text/plain": [
       "5.711538805600753"
      ]
     },
     "execution_count": 13,
     "metadata": {},
     "output_type": "execute_result"
    }
   ],
   "source": [
    "tune_results[min(tune_results.keys(), key = lambda x:tune_results[x])]"
   ]
  },
  {
   "cell_type": "code",
   "execution_count": null,
   "id": "160d2e28",
   "metadata": {},
   "outputs": [],
   "source": [
    "tune.values"
   ]
  },
  {
   "cell_type": "code",
   "execution_count": null,
   "id": "e1680694",
   "metadata": {},
   "outputs": [],
   "source": []
  }
 ],
 "metadata": {
  "kernelspec": {
   "display_name": "Python 3 (ipykernel)",
   "language": "python",
   "name": "python3"
  },
  "language_info": {
   "codemirror_mode": {
    "name": "ipython",
    "version": 3
   },
   "file_extension": ".py",
   "mimetype": "text/x-python",
   "name": "python",
   "nbconvert_exporter": "python",
   "pygments_lexer": "ipython3",
   "version": "3.11.5"
  }
 },
 "nbformat": 4,
 "nbformat_minor": 5
}
